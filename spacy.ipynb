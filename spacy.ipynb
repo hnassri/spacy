{
 "cells": [
  {
   "cell_type": "code",
   "execution_count": 1,
   "metadata": {},
   "outputs": [],
   "source": [
    "import spacy\n",
    "import pandas as pd"
   ]
  },
  {
   "cell_type": "code",
   "execution_count": 2,
   "metadata": {},
   "outputs": [],
   "source": [
    "nlp = spacy.load(\"fr_core_news_md\")"
   ]
  },
  {
   "cell_type": "code",
   "execution_count": 220,
   "metadata": {},
   "outputs": [],
   "source": [
    "liste_gare = pd.read_csv(\"./liste-des-gares.csv\", sep=';')\n",
    "liste_phrase_test = pd.read_csv(\"./liste-de-phrases.csv\", sep=\";\")\n",
    "gares = list(liste_gare[\"COMMUNE\"])\n",
    "gares = [x.lower() for x in gares]\n",
    "gares_without_starting = [x[2:] for x in gares if x[0:2] == \"l'\"]\n",
    "gares_without_dash = [x.replace(\"-\", \" \") for x in gares if \"-\" in x]\n",
    "gares = [x[2:] if x[0:2] == \"l'\" else x for x in gares]"
   ]
  },
  {
   "cell_type": "code",
   "execution_count": 221,
   "metadata": {},
   "outputs": [
    {
     "data": {
      "text/plain": [
       "['hermitage',\n",
       " 'isle-jourdain',\n",
       " \"hospitalet-pres-l'andorre\",\n",
       " 'etang-la-ville',\n",
       " 'aigle',\n",
       " 'isle-sur-le-doubs',\n",
       " 'escarene',\n",
       " 'isle-sur-la-sorgue',\n",
       " 'etang-la-ville',\n",
       " \"isle-d'abeau\",\n",
       " 'argentiere-la-bessee',\n",
       " 'etang-la-ville',\n",
       " 'hopital-du-grosbois']"
      ]
     },
     "execution_count": 221,
     "metadata": {},
     "output_type": "execute_result"
    }
   ],
   "source": [
    "gares_without_starting"
   ]
  },
  {
   "cell_type": "code",
   "execution_count": 194,
   "metadata": {},
   "outputs": [],
   "source": [
    "preposition_depart = [\"de\", \"depuis\", \"à\", \"sur\", \"dans\", \"vers\"]\n",
    "preposition_destination = [\"à\", \"pour\", \"sur\", \"dans\", \"jusque\", \"jusqu'à\", \"vers\", \"de\"]\n",
    "preposition_in_both = [\"de\", \"à\", \"sur\", \"dans\", \"vers\"]\n",
    "preposition = set(preposition_depart + preposition_destination)\n",
    "verbe_action = [\"aller\", \"partir\", \"rendre\", \"rejoindre\", \"retourner\"]\n",
    "verbe_potentiel_action = [\"vouloir\", \"souhaiter\", \"essayer\", \"devoir\", \"pouvoir\", \"aimer\"]"
   ]
  },
  {
   "cell_type": "code",
   "execution_count": 208,
   "metadata": {},
   "outputs": [
    {
     "data": {
      "text/plain": [
       "[[['vouloir', 'POT_ACTION'],\n",
       "  ['aller', 'ACTION'],\n",
       "  ['à', 'ADP'],\n",
       "  ['de', 'ADP'],\n",
       "  ['JOUE-LES-TOURS', 'LOC'],\n",
       "  ['depuis', 'ADP'],\n",
       "  ['PARIS', 'LOC']],\n",
       " [['de', 'ADP'], ['JOUE-LES-TOURS', 'LOC']],\n",
       " [['depuis', 'ADP'], ['PARIS', 'LOC']]]"
      ]
     },
     "execution_count": 208,
     "metadata": {},
     "output_type": "execute_result"
    }
   ],
   "source": [
    "text = \"Je veux aller à la mairie de JOUE LES TOURS depuis Paris\"\n",
    "text = text.lower()\n",
    "def get_main_data(text):\n",
    "    for city in gares_without_dash:\n",
    "        if city in text:\n",
    "           text = text.replace(city, city.replace(\" \", \"-\"))\n",
    "    doc = nlp(text)\n",
    "    position = []\n",
    "    loc_1, loc_2, nb_loc = [], [], 0\n",
    "    for w in doc:\n",
    "        w_text = w.text\n",
    "        if w.pos_ == \"ADP\" and w_text in preposition:\n",
    "            position.append([w_text, w.pos_])\n",
    "        if w_text in gares:\n",
    "            if nb_loc == 0:\n",
    "                if position and position[-1][1] == \"ADP\":\n",
    "                    loc_1.append(position[-1])\n",
    "                loc_1.append([w_text.upper(), \"LOC\"])\n",
    "                nb_loc += 1\n",
    "            else:\n",
    "                if position and position[-1][1] == \"ADP\":\n",
    "                    loc_2.append(position[-1])\n",
    "                loc_2.append([w_text.upper(), \"LOC\"])\n",
    "            position.append([w_text.upper(), \"LOC\"])\n",
    "        if w.pos_ == \"VERB\" and w.lemma_ in verbe_action:\n",
    "            position.append([w.lemma_, \"ACTION\"])\n",
    "        if w.pos_ == \"VERB\" and w.lemma_ in verbe_potentiel_action:\n",
    "            position.append([w.lemma_, \"POT_ACTION\"])\n",
    "    return [position, loc_1, loc_2]\n",
    "#print([(w.text, w.label_) for w in doc.ents])\n",
    "get_main_data(text)"
   ]
  },
  {
   "cell_type": "code",
   "execution_count": 196,
   "metadata": {},
   "outputs": [],
   "source": [
    "def is_departure(loc, loc_2):\n",
    "    if loc[0][1] == \"ADP\":\n",
    "        if loc[0][0] not in preposition_in_both:\n",
    "            if loc[0][0] in preposition_depart:\n",
    "                return True\n",
    "    elif loc[0][1] == \"LOC\" and len(loc_2) == 1:\n",
    "        return True\n",
    "    return False"
   ]
  },
  {
   "cell_type": "code",
   "execution_count": 197,
   "metadata": {},
   "outputs": [],
   "source": [
    "def get_city_name(loc_1, loc_2):\n",
    "    city_1, city_2 = \"\", \"\"\n",
    "    if len(loc_1) == 2:\n",
    "        city_1 = loc_1[1][0]\n",
    "    else:\n",
    "        city_1 = loc_1[0][0]\n",
    "\n",
    "    if len(loc_2) == 2:\n",
    "        city_2 = loc_2[1][0]\n",
    "    else:\n",
    "        city_2 = loc_2[0][0]\n",
    "    return [city_1, city_2]"
   ]
  },
  {
   "cell_type": "code",
   "execution_count": 198,
   "metadata": {},
   "outputs": [],
   "source": [
    "def is_de_a(loc_1, loc_2):\n",
    "    prep1 = loc_1[0][0]\n",
    "    prep2 = loc_2[0][0]\n",
    "    if prep1 in [\"de\", \"à\"] and prep2 in [\"de\", \"à\"]:\n",
    "        return True\n",
    "    return False"
   ]
  },
  {
   "cell_type": "code",
   "execution_count": 216,
   "metadata": {},
   "outputs": [
    {
     "data": {
      "text/plain": [
       "['PARIS', 'JOUE-LES-TOURS']"
      ]
     },
     "execution_count": 216,
     "metadata": {},
     "output_type": "execute_result"
    }
   ],
   "source": [
    "def get_position(text):\n",
    "    text = text.lower() # faudrait aussi enlever la ponctuation, ça ferait gagner du temps de calcul, pas grand chose certes mais sur des milliers ça peut représenter un gain non négligeable\n",
    "    [data, loc_1, loc_2] = get_main_data(text)\n",
    "    if not loc_1 or not loc_2:\n",
    "        return [\"Il manque des villes ou des villes n'ont pas été détecté. Il se peut aussi que la ville n'a pas été détecté parce qu'il n'y a pas de gare\"]\n",
    "    depart, destination = \"\", \"\"\n",
    "    if is_departure(loc_1, loc_2):\n",
    "        if len(loc_1) == 2:\n",
    "            depart = loc_1[1][0]\n",
    "        else:\n",
    "            depart = loc_1[0][0]\n",
    "        if len(loc_2) == 2:\n",
    "            destination = loc_2[1][0]\n",
    "        else:\n",
    "            destination = loc_2[0][0]\n",
    "    elif is_departure(loc_2, loc_1):\n",
    "        if len(loc_2) == 2:\n",
    "            depart = loc_2[1][0]\n",
    "        else:\n",
    "            depart = loc_2[0][0]\n",
    "        if len(loc_1) == 2:\n",
    "            destination = loc_1[1][0]\n",
    "        else:\n",
    "            destination = loc_1[0][0]\n",
    "    elif is_de_a(loc_1, loc_2):\n",
    "        if loc_1[0][0] == \"de\":\n",
    "            depart = loc_1[1][0]\n",
    "            destination = loc_2[1][0]\n",
    "        else:\n",
    "            depart = loc_2[1][0]\n",
    "            destination = loc_1[1][0]\n",
    "    else:\n",
    "        pot_action = False\n",
    "        action = False\n",
    "        \n",
    "        for [w, label] in data:\n",
    "            if label == \"POT_ACTION\":\n",
    "                pot_action = True\n",
    "                pass\n",
    "            \n",
    "            if pot_action:\n",
    "                if label == \"LOC\":\n",
    "                    destination = w\n",
    "                    cities = get_city_name(loc_1, loc_2)\n",
    "                    for city in cities:\n",
    "                        if city != w:\n",
    "                            depart = city\n",
    "                    break\n",
    "                \n",
    "        if not destination:\n",
    "            for [w, label] in data:\n",
    "                if label == \"ACTION\":\n",
    "                    action = True\n",
    "                    pass\n",
    "                if action:\n",
    "                    if label == \"LOC\":\n",
    "                        destination = w\n",
    "                        cities = get_city_name(loc_1, loc_2)\n",
    "                        for city in cities:\n",
    "                            if city != w:\n",
    "                                depart = city\n",
    "                        break\n",
    "    \n",
    "    return [\"L'\" + x if x.lower() in gares_without_starting else x for x in [depart, destination]]\n",
    "get_position(text)"
   ]
  },
  {
   "cell_type": "code",
   "execution_count": 223,
   "metadata": {},
   "outputs": [
    {
     "name": "stdout",
     "output_type": "stream",
     "text": [
      "Je souhaite visiter un musée de Paris, je pars de strasbourg\n",
      "[['de', 'ADP'], ['STRASBOURG', 'LOC']]\n",
      "[]\n",
      "Je vais visiter un musée de paris, je pars de strasbourg\n",
      "[['de', 'ADP'], ['PARIS', 'LOC']]\n",
      "[['de', 'ADP'], ['STRASBOURG', 'LOC']]\n",
      "Je suis à strasbourg et je retourne à paris\n",
      "[['à', 'ADP'], ['STRASBOURG', 'LOC']]\n",
      "[['à', 'ADP'], ['PARIS', 'LOC']]\n",
      "Nombre passé:  23\n",
      "Nombre non passé:  3\n",
      "Nombre total:  26\n"
     ]
    }
   ],
   "source": [
    "nb_passed, nb_no_passed = 0, 0\n",
    "\n",
    "for i, data in liste_phrase_test.iterrows():\n",
    "    sentence = data[\"phrase\"]\n",
    "    destination = data[\"destination\"]\n",
    "    depart = data[\"départ\"]\n",
    "    \n",
    "    if [depart.upper(), destination.upper()] == get_position(sentence):\n",
    "        nb_passed += 1\n",
    "    else:\n",
    "        print(sentence)\n",
    "        [data, loc_1, loc_2] = get_main_data(sentence)\n",
    "        print(loc_1)\n",
    "        print(loc_2)\n",
    "        nb_no_passed += 1\n",
    "\n",
    "print(\"Nombre passé: \", nb_passed)\n",
    "print(\"Nombre non passé: \", nb_no_passed)\n",
    "print(\"Nombre total: \", nb_passed + nb_no_passed)\n"
   ]
  },
  {
   "cell_type": "code",
   "execution_count": 224,
   "metadata": {},
   "outputs": [
    {
     "data": {
      "text/plain": [
       "['PARIS', 'STRASBOURG']"
      ]
     },
     "execution_count": 224,
     "metadata": {},
     "output_type": "execute_result"
    }
   ],
   "source": [
    "text_test = \"Je souhaite visiter un musée de Paris, je pars de strasbourg\"\n",
    "\n",
    "get_position(text_test)"
   ]
  }
 ],
 "metadata": {
  "kernelspec": {
   "display_name": "Python 3",
   "language": "python",
   "name": "python3"
  },
  "language_info": {
   "codemirror_mode": {
    "name": "ipython",
    "version": 3
   },
   "file_extension": ".py",
   "mimetype": "text/x-python",
   "name": "python",
   "nbconvert_exporter": "python",
   "pygments_lexer": "ipython3",
   "version": "3.10.12"
  }
 },
 "nbformat": 4,
 "nbformat_minor": 2
}
